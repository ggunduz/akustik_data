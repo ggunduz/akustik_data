{
 "cells": [
  {
   "cell_type": "code",
   "execution_count": 1,
   "id": "cc2cdb9f",
   "metadata": {},
   "outputs": [
    {
     "name": "stderr",
     "output_type": "stream",
     "text": [
      "2022-04-19 09:36:37.483662: I tensorflow/stream_executor/platform/default/dso_loader.cc:53] Successfully opened dynamic library libcudart.so.11.0\n"
     ]
    }
   ],
   "source": [
    "import pandas as pd\n",
    "import os\n",
    "import librosa\n",
    "import librosa.display\n",
    "import matplotlib.pyplot as plt\n",
    "from sklearn.model_selection import train_test_split\n",
    "from sklearn.preprocessing import normalize\n",
    "import warnings\n",
    "warnings.filterwarnings('ignore')\n",
    "from sklearn.model_selection import train_test_split\n",
    "import tensorflow\n",
    "from tensorflow.keras.layers import LSTM, Dense"
   ]
  },
  {
   "cell_type": "code",
   "execution_count": 2,
   "id": "dba57f38",
   "metadata": {},
   "outputs": [],
   "source": [
    "meta = []\n",
    "\n",
    "for i in range(1,26):\n",
    "    meta.append(['arac', 'x%d' % i])\n",
    "    \n",
    "for i in range(26,51):\n",
    "    meta.append(['arkaplan', 'x%d' % i])\n",
    "    \n",
    "for i in range(51,76):\n",
    "    meta.append(['hayvan', 'x%d' % i])\n",
    "    \n",
    "for i in range(76,101):\n",
    "    meta.append(['insan', 'x%d' % i])\n",
    "    \n",
    "label_map = ['Arac', 'Arkaplan', 'Hayvan', 'Insan']"
   ]
  },
  {
   "cell_type": "code",
   "execution_count": 3,
   "id": "cc5c05fc",
   "metadata": {},
   "outputs": [],
   "source": [
    "import numpy as np\n",
    "\n",
    "NUM_FEATURES = 128\n",
    "\n",
    "def features_extractor(file_name, NUM_FEATURES):\n",
    "    audio, sample_rate = librosa.load(file_name, res_type='kaiser_fast') \n",
    "    mfccs_features = librosa.feature.mfcc(y=audio, sr=sample_rate, n_mfcc=NUM_FEATURES)\n",
    "    \n",
    "    mfccs_features = mfccs_features.T\n",
    "    #mfccs_features = mfccs_features.reshape((1, mfccs_features.shape[0], mfccs_features.shape[1]))\n",
    "    \n",
    "    #return mfccs_features[:700]\n",
    "    return mfccs_features, audio\n",
    "\n",
    "\n",
    "extracted_features=[]\n",
    "original_features=[]\n",
    "\n",
    "for c, filename in meta:\n",
    "    \n",
    "    file_name = f\"./downsample/{filename}.wav\"\n",
    "\n",
    "    data, original_data =features_extractor(file_name, NUM_FEATURES)\n",
    "    extracted_features.append([data, c])\n",
    "    original_features.append(original_data.tolist())"
   ]
  },
  {
   "cell_type": "code",
   "execution_count": 4,
   "id": "84b296ea",
   "metadata": {},
   "outputs": [
    {
     "data": {
      "text/html": [
       "<div>\n",
       "<style scoped>\n",
       "    .dataframe tbody tr th:only-of-type {\n",
       "        vertical-align: middle;\n",
       "    }\n",
       "\n",
       "    .dataframe tbody tr th {\n",
       "        vertical-align: top;\n",
       "    }\n",
       "\n",
       "    .dataframe thead th {\n",
       "        text-align: right;\n",
       "    }\n",
       "</style>\n",
       "<table border=\"1\" class=\"dataframe\">\n",
       "  <thead>\n",
       "    <tr style=\"text-align: right;\">\n",
       "      <th></th>\n",
       "      <th>feature</th>\n",
       "      <th>class</th>\n",
       "    </tr>\n",
       "  </thead>\n",
       "  <tbody>\n",
       "    <tr>\n",
       "      <th>0</th>\n",
       "      <td>[[-252.69997, 157.74219, -14.976885, 43.705845...</td>\n",
       "      <td>arac</td>\n",
       "    </tr>\n",
       "    <tr>\n",
       "      <th>1</th>\n",
       "      <td>[[-241.23976, 171.48753, 7.499474, 39.061058, ...</td>\n",
       "      <td>arac</td>\n",
       "    </tr>\n",
       "    <tr>\n",
       "      <th>2</th>\n",
       "      <td>[[-230.91533, 106.09454, 17.360027, 36.846504,...</td>\n",
       "      <td>arac</td>\n",
       "    </tr>\n",
       "    <tr>\n",
       "      <th>3</th>\n",
       "      <td>[[-150.06833, 241.7922, -36.47016, 7.4844136, ...</td>\n",
       "      <td>arac</td>\n",
       "    </tr>\n",
       "    <tr>\n",
       "      <th>4</th>\n",
       "      <td>[[-222.76315, 202.01587, -35.510597, 26.660997...</td>\n",
       "      <td>arac</td>\n",
       "    </tr>\n",
       "    <tr>\n",
       "      <th>5</th>\n",
       "      <td>[[-134.91563, 159.38596, 20.196404, 28.565296,...</td>\n",
       "      <td>arac</td>\n",
       "    </tr>\n",
       "    <tr>\n",
       "      <th>6</th>\n",
       "      <td>[[-200.31755, 168.40308, -40.759666, 0.6482765...</td>\n",
       "      <td>arac</td>\n",
       "    </tr>\n",
       "    <tr>\n",
       "      <th>7</th>\n",
       "      <td>[[-198.80725, 176.5911, -1.5869819, 45.292442,...</td>\n",
       "      <td>arac</td>\n",
       "    </tr>\n",
       "    <tr>\n",
       "      <th>8</th>\n",
       "      <td>[[-172.58052, 225.5242, -63.19178, 44.00025, 4...</td>\n",
       "      <td>arac</td>\n",
       "    </tr>\n",
       "    <tr>\n",
       "      <th>9</th>\n",
       "      <td>[[-185.34874, 228.64188, -88.755264, 19.502235...</td>\n",
       "      <td>arac</td>\n",
       "    </tr>\n",
       "  </tbody>\n",
       "</table>\n",
       "</div>"
      ],
      "text/plain": [
       "                                             feature class\n",
       "0  [[-252.69997, 157.74219, -14.976885, 43.705845...  arac\n",
       "1  [[-241.23976, 171.48753, 7.499474, 39.061058, ...  arac\n",
       "2  [[-230.91533, 106.09454, 17.360027, 36.846504,...  arac\n",
       "3  [[-150.06833, 241.7922, -36.47016, 7.4844136, ...  arac\n",
       "4  [[-222.76315, 202.01587, -35.510597, 26.660997...  arac\n",
       "5  [[-134.91563, 159.38596, 20.196404, 28.565296,...  arac\n",
       "6  [[-200.31755, 168.40308, -40.759666, 0.6482765...  arac\n",
       "7  [[-198.80725, 176.5911, -1.5869819, 45.292442,...  arac\n",
       "8  [[-172.58052, 225.5242, -63.19178, 44.00025, 4...  arac\n",
       "9  [[-185.34874, 228.64188, -88.755264, 19.502235...  arac"
      ]
     },
     "execution_count": 4,
     "metadata": {},
     "output_type": "execute_result"
    }
   ],
   "source": [
    "extracted_features_df=pd.DataFrame(extracted_features,columns=['feature', 'class'])\n",
    "extracted_features_df.head(10)"
   ]
  },
  {
   "cell_type": "code",
   "execution_count": 5,
   "id": "a808bdd4",
   "metadata": {},
   "outputs": [],
   "source": [
    "import tensorflow as tf\n",
    "\n",
    "padded_inputs = tf.keras.preprocessing.sequence.pad_sequences(\n",
    "    extracted_features_df['feature'].tolist(), padding=\"post\")"
   ]
  },
  {
   "cell_type": "code",
   "execution_count": 6,
   "id": "a4283171",
   "metadata": {},
   "outputs": [
    {
     "data": {
      "text/plain": [
       "(100, 88200)"
      ]
     },
     "execution_count": 6,
     "metadata": {},
     "output_type": "execute_result"
    }
   ],
   "source": [
    "original_features = np.array(original_features)\n",
    "original_features.shape"
   ]
  },
  {
   "cell_type": "code",
   "execution_count": 7,
   "id": "7290232d",
   "metadata": {},
   "outputs": [],
   "source": [
    "from tensorflow.keras.utils import to_categorical\n",
    "from sklearn.preprocessing import LabelEncoder\n",
    "\n",
    "y=np.array(extracted_features_df['class'].tolist())\n",
    "\n",
    "labelencoder=LabelEncoder()\n",
    "yold = y.copy()\n",
    "y=to_categorical(labelencoder.fit_transform(y))"
   ]
  },
  {
   "cell_type": "code",
   "execution_count": 8,
   "id": "b794ee53",
   "metadata": {},
   "outputs": [
    {
     "name": "stderr",
     "output_type": "stream",
     "text": [
      "2022-04-19 09:36:43.592810: I tensorflow/stream_executor/platform/default/dso_loader.cc:53] Successfully opened dynamic library libcuda.so.1\n",
      "2022-04-19 09:36:43.661802: I tensorflow/stream_executor/cuda/cuda_gpu_executor.cc:937] successful NUMA node read from SysFS had negative value (-1), but there must be at least one NUMA node, so returning NUMA node zero\n",
      "2022-04-19 09:36:43.662032: I tensorflow/core/common_runtime/gpu/gpu_device.cc:1733] Found device 0 with properties: \n",
      "pciBusID: 0000:01:00.0 name: GeForce GTX 1660 Ti computeCapability: 7.5\n",
      "coreClock: 1.77GHz coreCount: 24 deviceMemorySize: 5.80GiB deviceMemoryBandwidth: 268.26GiB/s\n",
      "2022-04-19 09:36:43.662059: I tensorflow/stream_executor/platform/default/dso_loader.cc:53] Successfully opened dynamic library libcudart.so.11.0\n",
      "2022-04-19 09:36:43.663804: I tensorflow/stream_executor/platform/default/dso_loader.cc:53] Successfully opened dynamic library libcublas.so.11\n",
      "2022-04-19 09:36:43.663900: I tensorflow/stream_executor/platform/default/dso_loader.cc:53] Successfully opened dynamic library libcublasLt.so.11\n",
      "2022-04-19 09:36:43.664444: I tensorflow/stream_executor/platform/default/dso_loader.cc:53] Successfully opened dynamic library libcufft.so.10\n",
      "2022-04-19 09:36:43.664623: I tensorflow/stream_executor/platform/default/dso_loader.cc:53] Successfully opened dynamic library libcurand.so.10\n",
      "2022-04-19 09:36:43.665063: I tensorflow/stream_executor/platform/default/dso_loader.cc:53] Successfully opened dynamic library libcusolver.so.11\n",
      "2022-04-19 09:36:43.665473: I tensorflow/stream_executor/platform/default/dso_loader.cc:53] Successfully opened dynamic library libcusparse.so.11\n",
      "2022-04-19 09:36:43.665589: I tensorflow/stream_executor/platform/default/dso_loader.cc:53] Successfully opened dynamic library libcudnn.so.8\n",
      "2022-04-19 09:36:43.665676: I tensorflow/stream_executor/cuda/cuda_gpu_executor.cc:937] successful NUMA node read from SysFS had negative value (-1), but there must be at least one NUMA node, so returning NUMA node zero\n",
      "2022-04-19 09:36:43.665937: I tensorflow/stream_executor/cuda/cuda_gpu_executor.cc:937] successful NUMA node read from SysFS had negative value (-1), but there must be at least one NUMA node, so returning NUMA node zero\n",
      "2022-04-19 09:36:43.666124: I tensorflow/core/common_runtime/gpu/gpu_device.cc:1871] Adding visible gpu devices: 0\n",
      "2022-04-19 09:36:43.666399: I tensorflow/core/platform/cpu_feature_guard.cc:142] This TensorFlow binary is optimized with oneAPI Deep Neural Network Library (oneDNN) to use the following CPU instructions in performance-critical operations:  AVX2 FMA\n",
      "To enable them in other operations, rebuild TensorFlow with the appropriate compiler flags.\n",
      "2022-04-19 09:36:43.666738: I tensorflow/stream_executor/cuda/cuda_gpu_executor.cc:937] successful NUMA node read from SysFS had negative value (-1), but there must be at least one NUMA node, so returning NUMA node zero\n",
      "2022-04-19 09:36:43.666944: I tensorflow/core/common_runtime/gpu/gpu_device.cc:1733] Found device 0 with properties: \n",
      "pciBusID: 0000:01:00.0 name: GeForce GTX 1660 Ti computeCapability: 7.5\n",
      "coreClock: 1.77GHz coreCount: 24 deviceMemorySize: 5.80GiB deviceMemoryBandwidth: 268.26GiB/s\n",
      "2022-04-19 09:36:43.667021: I tensorflow/stream_executor/cuda/cuda_gpu_executor.cc:937] successful NUMA node read from SysFS had negative value (-1), but there must be at least one NUMA node, so returning NUMA node zero\n",
      "2022-04-19 09:36:43.667438: I tensorflow/stream_executor/cuda/cuda_gpu_executor.cc:937] successful NUMA node read from SysFS had negative value (-1), but there must be at least one NUMA node, so returning NUMA node zero\n",
      "2022-04-19 09:36:43.668139: I tensorflow/core/common_runtime/gpu/gpu_device.cc:1871] Adding visible gpu devices: 0\n",
      "2022-04-19 09:36:43.668220: I tensorflow/stream_executor/platform/default/dso_loader.cc:53] Successfully opened dynamic library libcudart.so.11.0\n",
      "2022-04-19 09:36:44.035426: I tensorflow/core/common_runtime/gpu/gpu_device.cc:1258] Device interconnect StreamExecutor with strength 1 edge matrix:\n",
      "2022-04-19 09:36:44.035445: I tensorflow/core/common_runtime/gpu/gpu_device.cc:1264]      0 \n",
      "2022-04-19 09:36:44.035449: I tensorflow/core/common_runtime/gpu/gpu_device.cc:1277] 0:   N \n",
      "2022-04-19 09:36:44.035583: I tensorflow/stream_executor/cuda/cuda_gpu_executor.cc:937] successful NUMA node read from SysFS had negative value (-1), but there must be at least one NUMA node, so returning NUMA node zero\n",
      "2022-04-19 09:36:44.035830: I tensorflow/stream_executor/cuda/cuda_gpu_executor.cc:937] successful NUMA node read from SysFS had negative value (-1), but there must be at least one NUMA node, so returning NUMA node zero\n",
      "2022-04-19 09:36:44.036047: I tensorflow/stream_executor/cuda/cuda_gpu_executor.cc:937] successful NUMA node read from SysFS had negative value (-1), but there must be at least one NUMA node, so returning NUMA node zero\n",
      "2022-04-19 09:36:44.036239: I tensorflow/core/common_runtime/gpu/gpu_device.cc:1418] Created TensorFlow device (/job:localhost/replica:0/task:0/device:GPU:0 with 4254 MB memory) -> physical GPU (device: 0, name: GeForce GTX 1660 Ti, pci bus id: 0000:01:00.0, compute capability: 7.5)\n",
      "2022-04-19 09:36:44.415455: I tensorflow/compiler/mlir/mlir_graph_optimization_pass.cc:176] None of the MLIR Optimization Passes are enabled (registered 2)\n",
      "2022-04-19 09:36:44.415879: I tensorflow/core/platform/profile_utils/cpu_utils.cc:114] CPU Frequency: 3000000000 Hz\n",
      "2022-04-19 09:36:45.822194: I tensorflow/stream_executor/platform/default/dso_loader.cc:53] Successfully opened dynamic library libcudnn.so.8\n",
      "2022-04-19 09:36:46.163773: I tensorflow/stream_executor/cuda/cuda_dnn.cc:359] Loaded cuDNN version 8101\n",
      "2022-04-19 09:36:46.350597: I tensorflow/stream_executor/platform/default/dso_loader.cc:53] Successfully opened dynamic library libcublas.so.11\n",
      "2022-04-19 09:36:46.710780: I tensorflow/stream_executor/platform/default/dso_loader.cc:53] Successfully opened dynamic library libcublasLt.so.11\n"
     ]
    },
    {
     "name": "stdout",
     "output_type": "stream",
     "text": [
      "WARNING:tensorflow:5 out of the last 5 calls to <function Model.make_predict_function.<locals>.predict_function at 0x7f038b236550> triggered tf.function retracing. Tracing is expensive and the excessive number of tracings could be due to (1) creating @tf.function repeatedly in a loop, (2) passing tensors with different shapes, (3) passing Python objects instead of tensors. For (1), please define your @tf.function outside of the loop. For (2), @tf.function has experimental_relax_shapes=True option that relaxes argument shapes that can avoid unnecessary retracing. For (3), please refer to https://www.tensorflow.org/guide/function#controlling_retracing and https://www.tensorflow.org/api_docs/python/tf/function for  more details.\n",
      "['Finished, final Accuracy:', 0.86]\n"
     ]
    }
   ],
   "source": [
    "from sklearn.model_selection import StratifiedKFold\n",
    "import tensorflow as tf\n",
    "    \n",
    "from sklearn.metrics import *\n",
    "bestacc = 0\n",
    "\n",
    "\n",
    "\n",
    "skf = StratifiedKFold(n_splits=5)\n",
    "\n",
    "from tensorflow.keras.models import Model\n",
    "from tensorflow.keras.layers import LSTM, Dense, Input\n",
    "from tensorflow.keras.optimizers import *\n",
    "\n",
    "ypreds = np.zeros((len(padded_inputs),4))\n",
    "\n",
    "for tr, val in skf.split(padded_inputs, yold):\n",
    "\n",
    "    tf.random.set_seed(3)\n",
    "    X_train = padded_inputs[tr]\n",
    "    X_val = padded_inputs[val]\n",
    "    Y_train = np.array([y[ind].tolist() for ind in tr]).astype(np.float32)\n",
    "    Y_val = np.array([y[ind].tolist() for ind in val]).astype(np.float32)\n",
    "\n",
    "    inp = Input(shape=(None,NUM_FEATURES))\n",
    "    x = LSTM(5,return_sequences= True )(inp)\n",
    "    x = LSTM(5, )(x)\n",
    "    x = Dense(16,activation='relu')(x)\n",
    "    x = Dense(16,activation='relu')(x)\n",
    "    out = Dense(4,activation='softmax')(x)\n",
    "\n",
    "    model = Model(inputs=inp, outputs=out)\n",
    "\n",
    "    es = tf.keras.callbacks.EarlyStopping(monitor='val_loss', patience=50, restore_best_weights=True, verbose = 0)\n",
    "\n",
    "    optimizer = tf.keras.optimizers.Adam(learning_rate = 0.001)\n",
    "    model.compile(loss=\"categorical_crossentropy\", optimizer=optimizer, metrics=[\"accuracy\"])\n",
    "    history = model.fit(X_train, Y_train, batch_size=1, epochs=500, validation_data=(X_val, Y_val), verbose =0, callbacks = [es])\n",
    "\n",
    "    ypreds[val] = model.predict(X_val)\n",
    "\n",
    "\n",
    "curacc = accuracy_score(np.argsort(y,axis=1)[:,-1], np.argsort(ypreds,axis=1)[:,-1])\n",
    "print(['Finished, final Accuracy:', curacc])"
   ]
  },
  {
   "cell_type": "code",
   "execution_count": 9,
   "id": "1e1eda7b",
   "metadata": {},
   "outputs": [],
   "source": [
    "def plot_confusion_matrix(cm, classes,\n",
    "                          normalize=False,\n",
    "                          title='Confusion matrix',\n",
    "                          cmap=plt.cm.Blues):\n",
    "    \"\"\"\n",
    "    This function prints and plots the confusion matrix.\n",
    "    Normalization can be applied by setting `normalize=True`.\n",
    "    \"\"\"\n",
    "    import itertools\n",
    "    if normalize:\n",
    "        cm = cm.astype('float') / cm.sum(axis=1)[:, np.newaxis]\n",
    "        print(\"Normalized confusion matrix\")\n",
    "    else:\n",
    "        print('Confusion matrix, without normalization')\n",
    "\n",
    "    fig = plt.figure(figsize=(10,7))\n",
    "    \n",
    "\n",
    "    plt.imshow(cm, interpolation='nearest', cmap=cmap)\n",
    "    plt.title(title)\n",
    "    plt.colorbar()\n",
    "    tick_marks = np.arange(len(classes))\n",
    "    plt.xticks(tick_marks, classes, rotation=45)\n",
    "    plt.yticks(tick_marks, classes)\n",
    "\n",
    "    fmt = '.2f' if normalize else 'd'\n",
    "    thresh = cm.max() / 2.\n",
    "    for i, j in itertools.product(range(cm.shape[0]), range(cm.shape[1])):\n",
    "        plt.text(j, i, format(cm[i, j], fmt),\n",
    "                 horizontalalignment=\"center\",\n",
    "                 color=\"white\" if cm[i, j] > thresh else \"black\")\n",
    "\n",
    "    plt.ylabel('True label')\n",
    "    plt.xlabel('Predicted label')\n",
    "    plt.tight_layout()"
   ]
  },
  {
   "cell_type": "code",
   "execution_count": 10,
   "id": "c5a52fe3",
   "metadata": {},
   "outputs": [
    {
     "name": "stdout",
     "output_type": "stream",
     "text": [
      "Confusion matrix, without normalization\n"
     ]
    },
    {
     "data": {
      "text/plain": [
       "<Figure size 432x288 with 0 Axes>"
      ]
     },
     "metadata": {},
     "output_type": "display_data"
    },
    {
     "data": {
      "image/png": "[encoded data removed]",
      "text/plain": [
       "<Figure size 720x504 with 2 Axes>"
      ]
     },
     "metadata": {
      "needs_background": "light"
     },
     "output_type": "display_data"
    }
   ],
   "source": [
    "from sklearn.metrics import confusion_matrix\n",
    "\n",
    "class_names = dict(zip(range(len(labelencoder.classes_)),labelencoder.classes_))\n",
    "\n",
    "y_true = np.argsort(y,axis=1)[:,-1]\n",
    "y_pred = np.argsort(ypreds,axis=1)[:,-1]\n",
    "\n",
    "y_true\n",
    "y_pred\n",
    "\n",
    "cnf_matrix = confusion_matrix([class_names[x] for x in y_true],\n",
    "                 [class_names[x] for x in y_pred],\n",
    "                 labels=labelencoder.classes_)\n",
    "\n",
    "np.set_printoptions(precision=2)\n",
    "\n",
    "# Plot non-normalized confusion matrix\n",
    "plt.figure()\n",
    "plot_confusion_matrix(cnf_matrix, classes=labelencoder.classes_,\n",
    "                      title='Confusion matrix, without normalization')"
   ]
  }
 ],
 "metadata": {
  "kernelspec": {
   "display_name": "Python 3 (ipykernel)",
   "language": "python",
   "name": "python3"
  },
  "language_info": {
   "codemirror_mode": {
    "name": "ipython",
    "version": 3
   },
   "file_extension": ".py",
   "mimetype": "text/x-python",
   "name": "python",
   "nbconvert_exporter": "python",
   "pygments_lexer": "ipython3",
   "version": "3.9.0"
  }
 },
 "nbformat": 4,
 "nbformat_minor": 5
}
