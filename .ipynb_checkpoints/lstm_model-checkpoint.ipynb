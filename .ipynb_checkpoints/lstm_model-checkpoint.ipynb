{
 "cells": [
  {
   "cell_type": "code",
   "execution_count": 1,
   "id": "9bb2d0a4",
   "metadata": {},
   "outputs": [
    {
     "data": {
      "text/plain": [
       "['arkaplan', 'insan', 'hayvan', 'arac']"
      ]
     },
     "execution_count": 1,
     "metadata": {},
     "output_type": "execute_result"
    }
   ],
   "source": [
    "import os\n",
    "classes = os.listdir('./akustik_data/')\n",
    "classes"
   ]
  },
  {
   "cell_type": "code",
   "execution_count": 2,
   "id": "cc2cdb9f",
   "metadata": {},
   "outputs": [
    {
     "name": "stderr",
     "output_type": "stream",
     "text": [
      "2022-04-11 17:16:57.542175: I tensorflow/stream_executor/platform/default/dso_loader.cc:53] Successfully opened dynamic library libcudart.so.11.0\n"
     ]
    }
   ],
   "source": [
    "import pandas as pd\n",
    "import os\n",
    "import librosa\n",
    "import librosa.display\n",
    "import matplotlib.pyplot as plt\n",
    "from sklearn.model_selection import train_test_split\n",
    "from sklearn.preprocessing import normalize\n",
    "import warnings\n",
    "warnings.filterwarnings('ignore')\n",
    "from sklearn.model_selection import train_test_split\n",
    "import tensorflow\n",
    "from tensorflow.keras.layers import LSTM, Dense"
   ]
  },
  {
   "cell_type": "code",
   "execution_count": 3,
   "id": "e0d4c1a3",
   "metadata": {
    "scrolled": false
   },
   "outputs": [
    {
     "data": {
      "text/plain": [
       "'\\nfrom scipy.io import wavfile\\n    \\nx = []\\nlabels = []\\nfor n, c in enumerate(classes):\\n    \\n    cfiles = os.listdir(f\\'./akustik_data/{c}/\\')\\n    \\n    #print(cfiles)\\n\\n    for cfile in cfiles:\\n\\n        # Using scipy\\n        #rate, data = wavfile.read(fname)\\n        y,sr=librosa.load(f\"./akustik_data/{c}/{cfile}\")\\n        y \\n       \\n        #librosa.display.waveshow(y,sr=sr, x_axis=\\'time\\', color=\\'purple\\',offset=0.0)\\n        \\n        #plt.show()\\n        \\n        hop_length = 512 #the default spacing between frames\\n        n_fft = 512 #number of samples \\n        #cut the sample to the relevant times\\n        y_cut=y\\n        MFCCs = librosa.feature.mfcc(y_cut, n_fft=n_fft,hop_length=hop_length,n_mfcc=256)\\n        #fig, ax = plt.subplots(figsize=(20,7))\\n        #librosa.display.specshow(MFCCs,sr=sr, cmap=\\'cool\\',hop_length=hop_length)\\n        #ax.set_xlabel(\\'Time\\', fontsize=15)\\n        #ax.set_title(\\'MFCC\\', size=20)\\n        #plt.colorbar()\\n        #plt.show()\\n\\n        #librosa.display.specshow(MFCCs, sr=sr, x_axis=\\'time\\')\\n        #plt.show()\\n\\n        MFCCs_x = MFCCs.copy()\\n\\n        #scl = StandardScaler()\\n\\n        #scl.fit_transform(MFCCs_x)\\n        #print(MFCCs_x.shape)\\n\\n        x.append(MFCCs_x)\\n        labels.append(n)\\n        \\n    \\n'"
      ]
     },
     "execution_count": 3,
     "metadata": {},
     "output_type": "execute_result"
    }
   ],
   "source": [
    "'''\n",
    "from scipy.io import wavfile\n",
    "    \n",
    "x = []\n",
    "labels = []\n",
    "for n, c in enumerate(classes):\n",
    "    \n",
    "    cfiles = os.listdir(f'./akustik_data/{c}/')\n",
    "    \n",
    "    #print(cfiles)\n",
    "\n",
    "    for cfile in cfiles:\n",
    "\n",
    "        # Using scipy\n",
    "        #rate, data = wavfile.read(fname)\n",
    "        y,sr=librosa.load(f\"./akustik_data/{c}/{cfile}\")\n",
    "        y \n",
    "       \n",
    "        #librosa.display.waveshow(y,sr=sr, x_axis='time', color='purple',offset=0.0)\n",
    "        \n",
    "        #plt.show()\n",
    "        \n",
    "        hop_length = 512 #the default spacing between frames\n",
    "        n_fft = 512 #number of samples \n",
    "        #cut the sample to the relevant times\n",
    "        y_cut=y\n",
    "        MFCCs = librosa.feature.mfcc(y_cut, n_fft=n_fft,hop_length=hop_length,n_mfcc=256)\n",
    "        #fig, ax = plt.subplots(figsize=(20,7))\n",
    "        #librosa.display.specshow(MFCCs,sr=sr, cmap='cool',hop_length=hop_length)\n",
    "        #ax.set_xlabel('Time', fontsize=15)\n",
    "        #ax.set_title('MFCC', size=20)\n",
    "        #plt.colorbar()\n",
    "        #plt.show()\n",
    "\n",
    "        #librosa.display.specshow(MFCCs, sr=sr, x_axis='time')\n",
    "        #plt.show()\n",
    "\n",
    "        MFCCs_x = MFCCs.copy()\n",
    "\n",
    "        #scl = StandardScaler()\n",
    "\n",
    "        #scl.fit_transform(MFCCs_x)\n",
    "        #print(MFCCs_x.shape)\n",
    "\n",
    "        x.append(MFCCs_x)\n",
    "        labels.append(n)\n",
    "        \n",
    "    \n",
    "'''   "
   ]
  },
  {
   "cell_type": "code",
   "execution_count": 4,
   "id": "cc5c05fc",
   "metadata": {},
   "outputs": [],
   "source": [
    "import numpy as np\n",
    "\n",
    "NUM_FEATURES = 128\n",
    "\n",
    "def features_extractor(file_name, NUM_FEATURES):\n",
    "    audio, sample_rate = librosa.load(file_name, res_type='kaiser_fast') \n",
    "    mfccs_features = librosa.feature.mfcc(y=audio, sr=sample_rate, n_mfcc=NUM_FEATURES)\n",
    "    \n",
    "    mfccs_features = mfccs_features.T\n",
    "    #mfccs_features = mfccs_features.reshape((1, mfccs_features.shape[0], mfccs_features.shape[1]))\n",
    "    \n",
    "    return mfccs_features[:700]\n",
    "\n",
    "from scipy.io import wavfile\n",
    "    \n",
    "x = []\n",
    "labels = []\n",
    "extracted_features=[]\n",
    "for n, c in enumerate(classes):\n",
    "    \n",
    "    cfiles = os.listdir(f'./akustik_data/{c}/')\n",
    "    \n",
    "    #print(cfiles)\n",
    "\n",
    "    for cfile in cfiles:\n",
    "        \n",
    "        file_name = f\"./akustik_data/{c}/{cfile}\"\n",
    "        \n",
    "       \n",
    "        final_class_labels=n\n",
    "        data =features_extractor(file_name, NUM_FEATURES)\n",
    "        extracted_features.append([data, c])"
   ]
  },
  {
   "cell_type": "code",
   "execution_count": 5,
   "id": "84b296ea",
   "metadata": {},
   "outputs": [
    {
     "data": {
      "text/html": [
       "<div>\n",
       "<style scoped>\n",
       "    .dataframe tbody tr th:only-of-type {\n",
       "        vertical-align: middle;\n",
       "    }\n",
       "\n",
       "    .dataframe tbody tr th {\n",
       "        vertical-align: top;\n",
       "    }\n",
       "\n",
       "    .dataframe thead th {\n",
       "        text-align: right;\n",
       "    }\n",
       "</style>\n",
       "<table border=\"1\" class=\"dataframe\">\n",
       "  <thead>\n",
       "    <tr style=\"text-align: right;\">\n",
       "      <th></th>\n",
       "      <th>feature</th>\n",
       "      <th>class</th>\n",
       "    </tr>\n",
       "  </thead>\n",
       "  <tbody>\n",
       "    <tr>\n",
       "      <th>0</th>\n",
       "      <td>[[-579.1828, 0.0, 0.0, 0.0, 0.0, 0.0, 0.0, 0.0...</td>\n",
       "      <td>arkaplan</td>\n",
       "    </tr>\n",
       "    <tr>\n",
       "      <th>1</th>\n",
       "      <td>[[-273.56412, 131.83221, -19.31492, 26.371445,...</td>\n",
       "      <td>arkaplan</td>\n",
       "    </tr>\n",
       "    <tr>\n",
       "      <th>2</th>\n",
       "      <td>[[-519.7655, 0.0, 0.0, 0.0, 0.0, 0.0, 0.0, 0.0...</td>\n",
       "      <td>arkaplan</td>\n",
       "    </tr>\n",
       "    <tr>\n",
       "      <th>3</th>\n",
       "      <td>[[-519.4768, 65.81222, 28.409016, 15.561525, 1...</td>\n",
       "      <td>arkaplan</td>\n",
       "    </tr>\n",
       "    <tr>\n",
       "      <th>4</th>\n",
       "      <td>[[-384.2597, 123.29479, -15.267828, 19.63068, ...</td>\n",
       "      <td>arkaplan</td>\n",
       "    </tr>\n",
       "    <tr>\n",
       "      <th>5</th>\n",
       "      <td>[[-539.07983, 0.0, 0.0, 0.0, 0.0, 0.0, 0.0, 0....</td>\n",
       "      <td>arkaplan</td>\n",
       "    </tr>\n",
       "    <tr>\n",
       "      <th>6</th>\n",
       "      <td>[[-508.07025, 0.0, 0.0, 0.0, 0.0, 0.0, 0.0, 0....</td>\n",
       "      <td>arkaplan</td>\n",
       "    </tr>\n",
       "    <tr>\n",
       "      <th>7</th>\n",
       "      <td>[[-368.67673, 106.56346, 58.319344, 16.190205,...</td>\n",
       "      <td>arkaplan</td>\n",
       "    </tr>\n",
       "    <tr>\n",
       "      <th>8</th>\n",
       "      <td>[[-429.58502, 74.08688, 12.271345, -1.417682, ...</td>\n",
       "      <td>arkaplan</td>\n",
       "    </tr>\n",
       "    <tr>\n",
       "      <th>9</th>\n",
       "      <td>[[-271.70776, 129.14697, 5.458806, 34.303513, ...</td>\n",
       "      <td>arkaplan</td>\n",
       "    </tr>\n",
       "  </tbody>\n",
       "</table>\n",
       "</div>"
      ],
      "text/plain": [
       "                                             feature     class\n",
       "0  [[-579.1828, 0.0, 0.0, 0.0, 0.0, 0.0, 0.0, 0.0...  arkaplan\n",
       "1  [[-273.56412, 131.83221, -19.31492, 26.371445,...  arkaplan\n",
       "2  [[-519.7655, 0.0, 0.0, 0.0, 0.0, 0.0, 0.0, 0.0...  arkaplan\n",
       "3  [[-519.4768, 65.81222, 28.409016, 15.561525, 1...  arkaplan\n",
       "4  [[-384.2597, 123.29479, -15.267828, 19.63068, ...  arkaplan\n",
       "5  [[-539.07983, 0.0, 0.0, 0.0, 0.0, 0.0, 0.0, 0....  arkaplan\n",
       "6  [[-508.07025, 0.0, 0.0, 0.0, 0.0, 0.0, 0.0, 0....  arkaplan\n",
       "7  [[-368.67673, 106.56346, 58.319344, 16.190205,...  arkaplan\n",
       "8  [[-429.58502, 74.08688, 12.271345, -1.417682, ...  arkaplan\n",
       "9  [[-271.70776, 129.14697, 5.458806, 34.303513, ...  arkaplan"
      ]
     },
     "execution_count": 5,
     "metadata": {},
     "output_type": "execute_result"
    }
   ],
   "source": [
    "extracted_features_df=pd.DataFrame(extracted_features,columns=['feature', 'class'])\n",
    "extracted_features_df.head(10)"
   ]
  },
  {
   "cell_type": "code",
   "execution_count": 6,
   "id": "a808bdd4",
   "metadata": {},
   "outputs": [],
   "source": [
    "import tensorflow as tf\n",
    "\n",
    "padded_inputs = tf.keras.preprocessing.sequence.pad_sequences(\n",
    "    extracted_features_df['feature'].tolist(), padding=\"post\"\n",
    ")\n",
    "\n",
    "from sklearn.preprocessing import StandardScaler\n",
    "\n",
    "#scl = StandardScaler()\n",
    "\n",
    "#padded_inputs = scl.fit_transform(padded_inputs)\n",
    "#padded_inputs = padded_inputs/1000.0"
   ]
  },
  {
   "cell_type": "code",
   "execution_count": 7,
   "id": "b9e8d347",
   "metadata": {},
   "outputs": [],
   "source": [
    "#X=extracted_features_df['feature'].tolist()\n",
    "y=np.array(extracted_features_df['class'].tolist())"
   ]
  },
  {
   "cell_type": "code",
   "execution_count": 8,
   "id": "7290232d",
   "metadata": {},
   "outputs": [],
   "source": [
    "from tensorflow.keras.utils import to_categorical\n",
    "from sklearn.preprocessing import LabelEncoder\n",
    "labelencoder=LabelEncoder()\n",
    "yold = y.copy()\n",
    "y=to_categorical(labelencoder.fit_transform(y))"
   ]
  },
  {
   "cell_type": "code",
   "execution_count": 45,
   "id": "6509f803",
   "metadata": {},
   "outputs": [
    {
     "data": {
      "text/plain": [
       "['arkaplan', 'insan', 'hayvan', 'arac']"
      ]
     },
     "execution_count": 45,
     "metadata": {},
     "output_type": "execute_result"
    }
   ],
   "source": [
    "classes"
   ]
  },
  {
   "cell_type": "code",
   "execution_count": 38,
   "id": "9a0dad87",
   "metadata": {
    "scrolled": false
   },
   "outputs": [
    {
     "name": "stdout",
     "output_type": "stream",
     "text": [
      "[0.7852760736196319, 5, 5, 8, 8]\n",
      "[0.8159509202453987, 5, 5, 8, 16]\n"
     ]
    },
    {
     "ename": "KeyboardInterrupt",
     "evalue": "",
     "output_type": "error",
     "traceback": [
      "\u001b[0;31m---------------------------------------------------------------------------\u001b[0m",
      "\u001b[0;31mKeyboardInterrupt\u001b[0m                         Traceback (most recent call last)",
      "\u001b[0;32m/tmp/ipykernel_14464/517852951.py\u001b[0m in \u001b[0;36m<module>\u001b[0;34m\u001b[0m\n\u001b[1;32m     39\u001b[0m             \u001b[0moptimizer\u001b[0m \u001b[0;34m=\u001b[0m \u001b[0mtf\u001b[0m\u001b[0;34m.\u001b[0m\u001b[0mkeras\u001b[0m\u001b[0;34m.\u001b[0m\u001b[0moptimizers\u001b[0m\u001b[0;34m.\u001b[0m\u001b[0mAdam\u001b[0m\u001b[0;34m(\u001b[0m\u001b[0;34m)\u001b[0m\u001b[0;34m\u001b[0m\u001b[0;34m\u001b[0m\u001b[0m\n\u001b[1;32m     40\u001b[0m             \u001b[0mmodel\u001b[0m\u001b[0;34m.\u001b[0m\u001b[0mcompile\u001b[0m\u001b[0;34m(\u001b[0m\u001b[0mloss\u001b[0m\u001b[0;34m=\u001b[0m\u001b[0;34m\"categorical_crossentropy\"\u001b[0m\u001b[0;34m,\u001b[0m \u001b[0moptimizer\u001b[0m\u001b[0;34m=\u001b[0m\u001b[0moptimizer\u001b[0m\u001b[0;34m,\u001b[0m \u001b[0mmetrics\u001b[0m\u001b[0;34m=\u001b[0m\u001b[0;34m[\u001b[0m\u001b[0;34m\"accuracy\"\u001b[0m\u001b[0;34m]\u001b[0m\u001b[0;34m)\u001b[0m\u001b[0;34m\u001b[0m\u001b[0;34m\u001b[0m\u001b[0m\n\u001b[0;32m---> 41\u001b[0;31m             \u001b[0mhistory\u001b[0m \u001b[0;34m=\u001b[0m \u001b[0mmodel\u001b[0m\u001b[0;34m.\u001b[0m\u001b[0mfit\u001b[0m\u001b[0;34m(\u001b[0m\u001b[0mX_train\u001b[0m\u001b[0;34m,\u001b[0m \u001b[0mY_train\u001b[0m\u001b[0;34m,\u001b[0m \u001b[0mbatch_size\u001b[0m\u001b[0;34m=\u001b[0m\u001b[0mbs\u001b[0m\u001b[0;34m,\u001b[0m \u001b[0mepochs\u001b[0m\u001b[0;34m=\u001b[0m\u001b[0;36m500\u001b[0m\u001b[0;34m,\u001b[0m \u001b[0mvalidation_data\u001b[0m\u001b[0;34m=\u001b[0m\u001b[0;34m(\u001b[0m\u001b[0mX_val\u001b[0m\u001b[0;34m,\u001b[0m \u001b[0mY_val\u001b[0m\u001b[0;34m)\u001b[0m\u001b[0;34m,\u001b[0m \u001b[0mverbose\u001b[0m \u001b[0;34m=\u001b[0m\u001b[0;36m0\u001b[0m\u001b[0;34m,\u001b[0m \u001b[0mcallbacks\u001b[0m \u001b[0;34m=\u001b[0m \u001b[0;34m[\u001b[0m\u001b[0mes\u001b[0m\u001b[0;34m]\u001b[0m\u001b[0;34m)\u001b[0m\u001b[0;34m\u001b[0m\u001b[0;34m\u001b[0m\u001b[0m\n\u001b[0m\u001b[1;32m     42\u001b[0m \u001b[0;34m\u001b[0m\u001b[0m\n\u001b[1;32m     43\u001b[0m             \u001b[0mypreds\u001b[0m\u001b[0;34m[\u001b[0m\u001b[0mval\u001b[0m\u001b[0;34m]\u001b[0m \u001b[0;34m=\u001b[0m \u001b[0mmodel\u001b[0m\u001b[0;34m.\u001b[0m\u001b[0mpredict\u001b[0m\u001b[0;34m(\u001b[0m\u001b[0mX_val\u001b[0m\u001b[0;34m)\u001b[0m\u001b[0;34m\u001b[0m\u001b[0;34m\u001b[0m\u001b[0m\n",
      "\u001b[0;32m~/anaconda3/envs/lbr/lib/python3.9/site-packages/tensorflow/python/keras/engine/training.py\u001b[0m in \u001b[0;36mfit\u001b[0;34m(self, x, y, batch_size, epochs, verbose, callbacks, validation_split, validation_data, shuffle, class_weight, sample_weight, initial_epoch, steps_per_epoch, validation_steps, validation_batch_size, validation_freq, max_queue_size, workers, use_multiprocessing)\u001b[0m\n\u001b[1;32m   1181\u001b[0m                 _r=1):\n\u001b[1;32m   1182\u001b[0m               \u001b[0mcallbacks\u001b[0m\u001b[0;34m.\u001b[0m\u001b[0mon_train_batch_begin\u001b[0m\u001b[0;34m(\u001b[0m\u001b[0mstep\u001b[0m\u001b[0;34m)\u001b[0m\u001b[0;34m\u001b[0m\u001b[0;34m\u001b[0m\u001b[0m\n\u001b[0;32m-> 1183\u001b[0;31m               \u001b[0mtmp_logs\u001b[0m \u001b[0;34m=\u001b[0m \u001b[0mself\u001b[0m\u001b[0;34m.\u001b[0m\u001b[0mtrain_function\u001b[0m\u001b[0;34m(\u001b[0m\u001b[0miterator\u001b[0m\u001b[0;34m)\u001b[0m\u001b[0;34m\u001b[0m\u001b[0;34m\u001b[0m\u001b[0m\n\u001b[0m\u001b[1;32m   1184\u001b[0m               \u001b[0;32mif\u001b[0m \u001b[0mdata_handler\u001b[0m\u001b[0;34m.\u001b[0m\u001b[0mshould_sync\u001b[0m\u001b[0;34m:\u001b[0m\u001b[0;34m\u001b[0m\u001b[0;34m\u001b[0m\u001b[0m\n\u001b[1;32m   1185\u001b[0m                 \u001b[0mcontext\u001b[0m\u001b[0;34m.\u001b[0m\u001b[0masync_wait\u001b[0m\u001b[0;34m(\u001b[0m\u001b[0;34m)\u001b[0m\u001b[0;34m\u001b[0m\u001b[0;34m\u001b[0m\u001b[0m\n",
      "\u001b[0;32m~/anaconda3/envs/lbr/lib/python3.9/site-packages/tensorflow/python/eager/def_function.py\u001b[0m in \u001b[0;36m__call__\u001b[0;34m(self, *args, **kwds)\u001b[0m\n\u001b[1;32m    887\u001b[0m \u001b[0;34m\u001b[0m\u001b[0m\n\u001b[1;32m    888\u001b[0m       \u001b[0;32mwith\u001b[0m \u001b[0mOptionalXlaContext\u001b[0m\u001b[0;34m(\u001b[0m\u001b[0mself\u001b[0m\u001b[0;34m.\u001b[0m\u001b[0m_jit_compile\u001b[0m\u001b[0;34m)\u001b[0m\u001b[0;34m:\u001b[0m\u001b[0;34m\u001b[0m\u001b[0;34m\u001b[0m\u001b[0m\n\u001b[0;32m--> 889\u001b[0;31m         \u001b[0mresult\u001b[0m \u001b[0;34m=\u001b[0m \u001b[0mself\u001b[0m\u001b[0;34m.\u001b[0m\u001b[0m_call\u001b[0m\u001b[0;34m(\u001b[0m\u001b[0;34m*\u001b[0m\u001b[0margs\u001b[0m\u001b[0;34m,\u001b[0m \u001b[0;34m**\u001b[0m\u001b[0mkwds\u001b[0m\u001b[0;34m)\u001b[0m\u001b[0;34m\u001b[0m\u001b[0;34m\u001b[0m\u001b[0m\n\u001b[0m\u001b[1;32m    890\u001b[0m \u001b[0;34m\u001b[0m\u001b[0m\n\u001b[1;32m    891\u001b[0m       \u001b[0mnew_tracing_count\u001b[0m \u001b[0;34m=\u001b[0m \u001b[0mself\u001b[0m\u001b[0;34m.\u001b[0m\u001b[0mexperimental_get_tracing_count\u001b[0m\u001b[0;34m(\u001b[0m\u001b[0;34m)\u001b[0m\u001b[0;34m\u001b[0m\u001b[0;34m\u001b[0m\u001b[0m\n",
      "\u001b[0;32m~/anaconda3/envs/lbr/lib/python3.9/site-packages/tensorflow/python/eager/def_function.py\u001b[0m in \u001b[0;36m_call\u001b[0;34m(self, *args, **kwds)\u001b[0m\n\u001b[1;32m    915\u001b[0m       \u001b[0;31m# In this case we have created variables on the first call, so we run the\u001b[0m\u001b[0;34m\u001b[0m\u001b[0;34m\u001b[0m\u001b[0;34m\u001b[0m\u001b[0m\n\u001b[1;32m    916\u001b[0m       \u001b[0;31m# defunned version which is guaranteed to never create variables.\u001b[0m\u001b[0;34m\u001b[0m\u001b[0;34m\u001b[0m\u001b[0;34m\u001b[0m\u001b[0m\n\u001b[0;32m--> 917\u001b[0;31m       \u001b[0;32mreturn\u001b[0m \u001b[0mself\u001b[0m\u001b[0;34m.\u001b[0m\u001b[0m_stateless_fn\u001b[0m\u001b[0;34m(\u001b[0m\u001b[0;34m*\u001b[0m\u001b[0margs\u001b[0m\u001b[0;34m,\u001b[0m \u001b[0;34m**\u001b[0m\u001b[0mkwds\u001b[0m\u001b[0;34m)\u001b[0m  \u001b[0;31m# pylint: disable=not-callable\u001b[0m\u001b[0;34m\u001b[0m\u001b[0;34m\u001b[0m\u001b[0m\n\u001b[0m\u001b[1;32m    918\u001b[0m     \u001b[0;32melif\u001b[0m \u001b[0mself\u001b[0m\u001b[0;34m.\u001b[0m\u001b[0m_stateful_fn\u001b[0m \u001b[0;32mis\u001b[0m \u001b[0;32mnot\u001b[0m \u001b[0;32mNone\u001b[0m\u001b[0;34m:\u001b[0m\u001b[0;34m\u001b[0m\u001b[0;34m\u001b[0m\u001b[0m\n\u001b[1;32m    919\u001b[0m       \u001b[0;31m# Release the lock early so that multiple threads can perform the call\u001b[0m\u001b[0;34m\u001b[0m\u001b[0;34m\u001b[0m\u001b[0;34m\u001b[0m\u001b[0m\n",
      "\u001b[0;32m~/anaconda3/envs/lbr/lib/python3.9/site-packages/tensorflow/python/eager/function.py\u001b[0m in \u001b[0;36m__call__\u001b[0;34m(self, *args, **kwargs)\u001b[0m\n\u001b[1;32m   3021\u001b[0m       (graph_function,\n\u001b[1;32m   3022\u001b[0m        filtered_flat_args) = self._maybe_define_function(args, kwargs)\n\u001b[0;32m-> 3023\u001b[0;31m     return graph_function._call_flat(\n\u001b[0m\u001b[1;32m   3024\u001b[0m         filtered_flat_args, captured_inputs=graph_function.captured_inputs)  # pylint: disable=protected-access\n\u001b[1;32m   3025\u001b[0m \u001b[0;34m\u001b[0m\u001b[0m\n",
      "\u001b[0;32m~/anaconda3/envs/lbr/lib/python3.9/site-packages/tensorflow/python/eager/function.py\u001b[0m in \u001b[0;36m_call_flat\u001b[0;34m(self, args, captured_inputs, cancellation_manager)\u001b[0m\n\u001b[1;32m   1958\u001b[0m         and executing_eagerly):\n\u001b[1;32m   1959\u001b[0m       \u001b[0;31m# No tape is watching; skip to running the function.\u001b[0m\u001b[0;34m\u001b[0m\u001b[0;34m\u001b[0m\u001b[0;34m\u001b[0m\u001b[0m\n\u001b[0;32m-> 1960\u001b[0;31m       return self._build_call_outputs(self._inference_function.call(\n\u001b[0m\u001b[1;32m   1961\u001b[0m           ctx, args, cancellation_manager=cancellation_manager))\n\u001b[1;32m   1962\u001b[0m     forward_backward = self._select_forward_and_backward_functions(\n",
      "\u001b[0;32m~/anaconda3/envs/lbr/lib/python3.9/site-packages/tensorflow/python/eager/function.py\u001b[0m in \u001b[0;36mcall\u001b[0;34m(self, ctx, args, cancellation_manager)\u001b[0m\n\u001b[1;32m    589\u001b[0m       \u001b[0;32mwith\u001b[0m \u001b[0m_InterpolateFunctionError\u001b[0m\u001b[0;34m(\u001b[0m\u001b[0mself\u001b[0m\u001b[0;34m)\u001b[0m\u001b[0;34m:\u001b[0m\u001b[0;34m\u001b[0m\u001b[0;34m\u001b[0m\u001b[0m\n\u001b[1;32m    590\u001b[0m         \u001b[0;32mif\u001b[0m \u001b[0mcancellation_manager\u001b[0m \u001b[0;32mis\u001b[0m \u001b[0;32mNone\u001b[0m\u001b[0;34m:\u001b[0m\u001b[0;34m\u001b[0m\u001b[0;34m\u001b[0m\u001b[0m\n\u001b[0;32m--> 591\u001b[0;31m           outputs = execute.execute(\n\u001b[0m\u001b[1;32m    592\u001b[0m               \u001b[0mstr\u001b[0m\u001b[0;34m(\u001b[0m\u001b[0mself\u001b[0m\u001b[0;34m.\u001b[0m\u001b[0msignature\u001b[0m\u001b[0;34m.\u001b[0m\u001b[0mname\u001b[0m\u001b[0;34m)\u001b[0m\u001b[0;34m,\u001b[0m\u001b[0;34m\u001b[0m\u001b[0;34m\u001b[0m\u001b[0m\n\u001b[1;32m    593\u001b[0m               \u001b[0mnum_outputs\u001b[0m\u001b[0;34m=\u001b[0m\u001b[0mself\u001b[0m\u001b[0;34m.\u001b[0m\u001b[0m_num_outputs\u001b[0m\u001b[0;34m,\u001b[0m\u001b[0;34m\u001b[0m\u001b[0;34m\u001b[0m\u001b[0m\n",
      "\u001b[0;32m~/anaconda3/envs/lbr/lib/python3.9/site-packages/tensorflow/python/eager/execute.py\u001b[0m in \u001b[0;36mquick_execute\u001b[0;34m(op_name, num_outputs, inputs, attrs, ctx, name)\u001b[0m\n\u001b[1;32m     57\u001b[0m   \u001b[0;32mtry\u001b[0m\u001b[0;34m:\u001b[0m\u001b[0;34m\u001b[0m\u001b[0;34m\u001b[0m\u001b[0m\n\u001b[1;32m     58\u001b[0m     \u001b[0mctx\u001b[0m\u001b[0;34m.\u001b[0m\u001b[0mensure_initialized\u001b[0m\u001b[0;34m(\u001b[0m\u001b[0;34m)\u001b[0m\u001b[0;34m\u001b[0m\u001b[0;34m\u001b[0m\u001b[0m\n\u001b[0;32m---> 59\u001b[0;31m     tensors = pywrap_tfe.TFE_Py_Execute(ctx._handle, device_name, op_name,\n\u001b[0m\u001b[1;32m     60\u001b[0m                                         inputs, attrs, num_outputs)\n\u001b[1;32m     61\u001b[0m   \u001b[0;32mexcept\u001b[0m \u001b[0mcore\u001b[0m\u001b[0;34m.\u001b[0m\u001b[0m_NotOkStatusException\u001b[0m \u001b[0;32mas\u001b[0m \u001b[0me\u001b[0m\u001b[0;34m:\u001b[0m\u001b[0;34m\u001b[0m\u001b[0;34m\u001b[0m\u001b[0m\n",
      "\u001b[0;31mKeyboardInterrupt\u001b[0m: "
     ]
    }
   ],
   "source": [
    "from sklearn.model_selection import StratifiedKFold\n",
    "import tensorflow as tf\n",
    "\n",
    "best_acc = 0\n",
    "\n",
    "for bs in [1,4,8,16]:\n",
    " for LSTM1 in [5,10,20,40]:\n",
    "  for LSTM2 in [5,10,20,40]:\n",
    "   for d1 in [8,16,32,64]:\n",
    "    for d2 in [8,16,32,64]:\n",
    "    \n",
    "        skf = StratifiedKFold(n_splits=5)\n",
    "\n",
    "        from tensorflow.keras.models import Model\n",
    "        from tensorflow.keras.layers import LSTM, Dense, Input\n",
    "        from tensorflow.keras.optimizers import *\n",
    "\n",
    "        ypreds = np.zeros((len(padded_inputs),4))\n",
    "\n",
    "        for tr, val in skf.split(padded_inputs, yold):\n",
    "\n",
    "            tf.random.set_seed(3)\n",
    "            X_train = padded_inputs[tr]\n",
    "            X_val = padded_inputs[val]\n",
    "            Y_train = np.array([y[ind].tolist() for ind in tr]).astype(np.float32)\n",
    "            Y_val = np.array([y[ind].tolist() for ind in val]).astype(np.float32)\n",
    "\n",
    "            inp = Input(shape=(None,NUM_FEATURES))\n",
    "            x = LSTM(LSTM1,return_sequences= True )(inp)\n",
    "            x = LSTM(LSTM2, )(x)\n",
    "            x = Dense(d1,activation='relu')(x)\n",
    "            x = Dense(d2,activation='relu')(x)\n",
    "            out = Dense(4,activation='softmax')(x)\n",
    "\n",
    "            model = Model(inputs=inp, outputs=out)\n",
    "\n",
    "            es = tf.keras.callbacks.EarlyStopping(monitor='val_loss', patience=50, restore_best_weights=True, verbose = 0)\n",
    "\n",
    "            optimizer = tf.keras.optimizers.Adam()\n",
    "            model.compile(loss=\"categorical_crossentropy\", optimizer=optimizer, metrics=[\"accuracy\"])\n",
    "            history = model.fit(X_train, Y_train, batch_size=bs, epochs=500, validation_data=(X_val, Y_val), verbose =0, callbacks = [es])\n",
    "\n",
    "            ypreds[val] = model.predict(X_val)\n",
    "\n",
    "            \n",
    "        curacc = accuracy_score(np.argsort(y,axis=1)[:,-1], np.argsort(ypreds,axis=1)[:,-1])\n",
    "        \n",
    "        if curacc > best_acc:\n",
    "            \n",
    "            best_acc = curacc\n",
    "            print([best_acc,bs, LSTM1, LSTM2, d1, d2])"
   ]
  },
  {
   "cell_type": "code",
   "execution_count": 40,
   "id": "49bc4632",
   "metadata": {},
   "outputs": [
    {
     "name": "stdout",
     "output_type": "stream",
     "text": [
      "[0.8159509202453987, 5, 5, 8, 16]\n"
     ]
    }
   ],
   "source": [
    "from sklearn.model_selection import StratifiedKFold\n",
    "import tensorflow as tf\n",
    "\n",
    "best_acc = 0\n",
    "\n",
    "for bs in [1]:\n",
    " for LSTM1 in [5]:\n",
    "  for LSTM2 in [5]:\n",
    "   for d1 in [8]:\n",
    "    for d2 in [16]:\n",
    "    \n",
    "        skf = StratifiedKFold(n_splits=5)\n",
    "\n",
    "        from tensorflow.keras.models import Model\n",
    "        from tensorflow.keras.layers import LSTM, Dense, Input\n",
    "        from tensorflow.keras.optimizers import *\n",
    "\n",
    "        ypreds = np.zeros((len(padded_inputs),4))\n",
    "\n",
    "        for tr, val in skf.split(padded_inputs, yold):\n",
    "\n",
    "            tf.random.set_seed(3)\n",
    "            X_train = padded_inputs[tr]\n",
    "            X_val = padded_inputs[val]\n",
    "            Y_train = np.array([y[ind].tolist() for ind in tr]).astype(np.float32)\n",
    "            Y_val = np.array([y[ind].tolist() for ind in val]).astype(np.float32)\n",
    "\n",
    "            inp = Input(shape=(None,NUM_FEATURES))\n",
    "            x = LSTM(LSTM1,return_sequences= True )(inp)\n",
    "            x = LSTM(LSTM2, )(x)\n",
    "            x = Dense(d1,activation='relu')(x)\n",
    "            x = Dense(d2,activation='relu')(x)\n",
    "            out = Dense(4,activation='softmax')(x)\n",
    "\n",
    "            model = Model(inputs=inp, outputs=out)\n",
    "\n",
    "            es = tf.keras.callbacks.EarlyStopping(monitor='val_loss', patience=50, restore_best_weights=True, verbose = 0)\n",
    "\n",
    "            optimizer = tf.keras.optimizers.Adam()\n",
    "            model.compile(loss=\"categorical_crossentropy\", optimizer=optimizer, metrics=[\"accuracy\"])\n",
    "            history = model.fit(X_train, Y_train, batch_size=bs, epochs=500, validation_data=(X_val, Y_val), verbose =0, callbacks = [es])\n",
    "\n",
    "            ypreds[val] = model.predict(X_val)\n",
    "\n",
    "            \n",
    "        curacc = accuracy_score(np.argsort(y,axis=1)[:,-1], np.argsort(ypreds,axis=1)[:,-1])\n",
    "        \n",
    "        if curacc > best_acc:\n",
    "            \n",
    "            best_acc = curacc\n",
    "            print([best_acc, LSTM1, LSTM2, d1, d2])"
   ]
  },
  {
   "cell_type": "code",
   "execution_count": 41,
   "id": "04590800",
   "metadata": {},
   "outputs": [
    {
     "data": {
      "image/png": "[encoded data removed]",
      "text/plain": [
       "<Figure size 540x540 with 1 Axes>"
      ]
     },
     "metadata": {
      "needs_background": "light"
     },
     "output_type": "display_data"
    }
   ],
   "source": [
    "from sklearn.metrics import confusion_matrix\n",
    "import matplotlib.pyplot as plt\n",
    "#\n",
    "# Get the predictions\n",
    "#\n",
    "y_test = np.argsort(y,axis=1)[:,-1]\n",
    "y_pred = np.argsort(ypreds,axis=1)[:,-1]\n",
    "#\n",
    "# Calculate the confusion matrix\n",
    "#\n",
    "conf_matrix = confusion_matrix(y_true=y_test, y_pred=y_pred)\n",
    "#\n",
    "# Print the confusion matrix using Matplotlib\n",
    "#\n",
    "fig, ax = plt.subplots(figsize=(7.5, 7.5))\n",
    "ax.matshow(conf_matrix, cmap=plt.cm.Blues, alpha=0.3)\n",
    "for i in range(conf_matrix.shape[0]):\n",
    "    for j in range(conf_matrix.shape[1]):\n",
    "        ax.text(x=j, y=i,s=conf_matrix[i, j], va='center', ha='center', size='xx-large')\n",
    " \n",
    "plt.xlabel('Predictions', fontsize=18)\n",
    "plt.ylabel('Actuals', fontsize=18)\n",
    "plt.title('Confusion Matrix', fontsize=18)\n",
    "plt.show()"
   ]
  },
  {
   "cell_type": "code",
   "execution_count": 53,
   "id": "86dfd442",
   "metadata": {},
   "outputs": [],
   "source": [
    "class_format = labelencoder.classes_.tolist()"
   ]
  },
  {
   "cell_type": "code",
   "execution_count": 52,
   "id": "4af31506",
   "metadata": {},
   "outputs": [
    {
     "data": {
      "image/png": "[encoded data removed]",
      "text/plain": [
       "<Figure size 576x576 with 2 Axes>"
      ]
     },
     "metadata": {
      "needs_background": "light"
     },
     "output_type": "display_data"
    }
   ],
   "source": [
    "import seaborn as sns\n",
    "import matplotlib.pyplot as plt \n",
    "\n",
    "\n",
    "fig = plt.figure(figsize=(8,8))\n",
    "cf_matrix = confusion_matrix(y_test, y_pred)\n",
    "\n",
    "ax = sns.heatmap(cf_matrix/np.sum(cf_matrix,axis=1), annot=True, cmap='Blues')\n",
    "\n",
    "ax.set_title('Seaborn Confusion Matrix with labels\\n\\n');\n",
    "ax.set_xlabel('\\nPredicted Values')\n",
    "ax.set_ylabel('Actual Values ');\n",
    "\n",
    "## Ticket labels - List must be in alphabetical order\n",
    "ax.xaxis.set_ticklabels(['arac', 'arkaplan', 'hayvan', 'insan'])\n",
    "ax.yaxis.set_ticklabels(['arac', 'arkaplan', 'hayvan', 'insan'])\n",
    "\n",
    "## Display the visualization of the Confusion Matrix.\n",
    "plt.show()"
   ]
  },
  {
   "cell_type": "code",
   "execution_count": 51,
   "id": "59937e80",
   "metadata": {},
   "outputs": [
    {
     "data": {
      "text/plain": [
       "array([[0.4       , 0.6       , 0.        , 0.        ],\n",
       "       [0.04      , 0.96      , 0.        , 0.        ],\n",
       "       [0.        , 0.56      , 0.51724138, 0.        ],\n",
       "       [0.        , 0.        , 0.        , 1.        ]])"
      ]
     },
     "execution_count": 51,
     "metadata": {},
     "output_type": "execute_result"
    }
   ],
   "source": [
    "cf_matrix/np.sum(cf_matrix,axis=1)"
   ]
  },
  {
   "cell_type": "code",
   "execution_count": null,
   "id": "15dd1cf9",
   "metadata": {},
   "outputs": [],
   "source": [
    "import numpy as np\n",
    "np.random.seed(1)\n",
    "\n",
    "import tensorflow as tf\n",
    "\n",
    "from keras import models\n",
    "from keras.layers import Dense, Masking, LSTM\n",
    "\n",
    "import matplotlib.pyplot as plt\n",
    "\n",
    "\n",
    "def stateful_model():\n",
    "    hidden_units = 256\n",
    "\n",
    "    model = models.Sequential()\n",
    "    model.add(LSTM(hidden_units, batch_input_shape=(1, 1, 1), return_sequences=False, stateful=True))\n",
    "    model.add(Dense(1, activation='relu', name='output'))\n",
    "\n",
    "    model.compile(loss='binary_crossentropy', optimizer='rmsprop')\n",
    "\n",
    "    return model\n",
    "\n",
    "\n",
    "def train_rnn(x_train, y_train, max_len, mask):\n",
    "    epochs = 10\n",
    "    batch_size = 200\n",
    "\n",
    "    vec_dims = 1\n",
    "    hidden_units = 256\n",
    "    in_shape = (max_len, vec_dims)\n",
    "\n",
    "    model = models.Sequential()\n",
    "\n",
    "    model.add(Masking(mask, name=\"in_layer\", input_shape=in_shape,))\n",
    "    model.add(LSTM(hidden_units, return_sequences=False))\n",
    "    model.add(Dense(1, activation='relu', name='output'))\n",
    "\n",
    "    model.compile(loss='binary_crossentropy', optimizer='rmsprop')\n",
    "\n",
    "    model.fit(x_train, y_train, batch_size=batch_size, epochs=epochs,\n",
    "              validation_split=0.05)\n",
    "\n",
    "    return model\n",
    "\n",
    "\n",
    "def gen_train_sig_cls_pair(t_stops, num_examples, mask):\n",
    "    x = []\n",
    "    y = []\n",
    "    max_t = int(np.max(t_stops))\n",
    "\n",
    "    for t_stop in t_stops:\n",
    "        one_indices = np.random.choice(a=num_examples, size=num_examples // 2, replace=False)\n",
    "\n",
    "        sig = np.zeros((num_examples, max_t), dtype=np.int8)\n",
    "        sig[one_indices, 0] = 1\n",
    "        sig[:, t_stop:] = mask\n",
    "        x.append(sig)\n",
    "\n",
    "        cls = np.zeros(num_examples, dtype=np.bool)\n",
    "        cls[one_indices] = 1\n",
    "        y.append(cls)\n",
    "\n",
    "    return np.concatenate(x, axis=0), np.concatenate(y, axis=0)\n",
    "\n",
    "\n",
    "def gen_test_sig_cls_pair(t_stops, num_examples):\n",
    "    x = []\n",
    "    y = []\n",
    "\n",
    "    for t_stop in t_stops:\n",
    "        one_indices = np.random.choice(a=num_examples, size=num_examples // 2, replace=False)\n",
    "\n",
    "        sig = np.zeros((num_examples, t_stop), dtype=np.bool)\n",
    "        sig[one_indices, 0] = 1\n",
    "        x.extend(list(sig))\n",
    "\n",
    "        cls = np.zeros((num_examples, t_stop), dtype=np.bool)\n",
    "        cls[one_indices] = 1\n",
    "        y.extend(list(cls))\n",
    "\n",
    "    return x, y\n",
    "\n",
    "\n",
    "if __name__ == '__main__':\n",
    "    noise_mag = 0.01\n",
    "    mask_val = -10\n",
    "    signal_lengths = (10, 15, 20)\n",
    "\n",
    "    x_in, y_in = gen_train_sig_cls_pair(signal_lengths, 10, mask_val)\n",
    "\n",
    "    mod = train_rnn(x_in[:, :, None], y_in, int(np.max(signal_lengths)), mask_val)\n",
    "\n",
    "    testing_dat, expected = gen_test_sig_cls_pair(signal_lengths, 3)\n",
    "\n",
    "    state_mod = stateful_model()\n",
    "    state_mod.set_weights(mod.get_weights())\n",
    "\n",
    "    res = []\n",
    "    for s_i in range(len(testing_dat)):\n",
    "        seq_in = list(testing_dat[s_i])\n",
    "        seq_len = len(seq_in)\n",
    "\n",
    "        for t_i in range(seq_len):\n",
    "            res.extend(state_mod.predict(np.array([[[seq_in[t_i]]]])))\n",
    "\n",
    "        state_mod.reset_states()\n",
    "\n",
    "    fig, axes = plt.subplots(2)\n",
    "    axes[0].plot(np.concatenate(testing_dat), label=\"input\")\n",
    "\n",
    "    axes[1].plot(res, \"ro\", label=\"result\", alpha=0.2)\n",
    "    axes[1].plot(np.concatenate(expected, axis=0), \"bo\", label=\"expected\", alpha=0.2)\n",
    "    axes[1].legend(bbox_to_anchor=(1.1, 1))\n",
    "\n",
    "    plt.show()"
   ]
  },
  {
   "cell_type": "code",
   "execution_count": null,
   "id": "250ed2cc",
   "metadata": {},
   "outputs": [],
   "source": [
    "x_in.shape"
   ]
  },
  {
   "cell_type": "code",
   "execution_count": null,
   "id": "658ceb88",
   "metadata": {},
   "outputs": [],
   "source": [
    "import tensorflow as tf\n",
    "\n",
    "optimizer = tf.keras.optimizers.Adam()\n",
    "model.compile(loss=\"categorical_crossentropy\", optimizer=optimizer, metrics=[\"accuracy\"])\n",
    "history = model.fit(X_train, Y_train, batch_size=1, epochs=50, validation_data=(X_val, Y_val))"
   ]
  }
 ],
 "metadata": {
  "kernelspec": {
   "display_name": "Python 3 (ipykernel)",
   "language": "python",
   "name": "python3"
  },
  "language_info": {
   "codemirror_mode": {
    "name": "ipython",
    "version": 3
   },
   "file_extension": ".py",
   "mimetype": "text/x-python",
   "name": "python",
   "nbconvert_exporter": "python",
   "pygments_lexer": "ipython3",
   "version": "3.9.0"
  }
 },
 "nbformat": 4,
 "nbformat_minor": 5
}
