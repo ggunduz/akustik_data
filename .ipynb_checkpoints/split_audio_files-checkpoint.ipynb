{
 "cells": [
  {
   "cell_type": "code",
   "execution_count": 4,
   "id": "d41aadfa",
   "metadata": {},
   "outputs": [
    {
     "name": "stdout",
     "output_type": "stream",
     "text": [
      "Collecting pydub\n",
      "  Downloading pydub-0.25.1-py2.py3-none-any.whl (32 kB)\n",
      "Installing collected packages: pydub\n",
      "Successfully installed pydub-0.25.1\n"
     ]
    }
   ],
   "source": [
    "!pip install pydub\n",
    "from pydub import AudioSegment\n",
    "\n",
    "filePath = './akustik_data/insan/f1_script1_ipad_office1.wav'\n",
    "# Manipulation functions.\n",
    "def get_wav_make(dataDir):\n",
    "    sound= AudioSegment.from_wav(dataDir)\n",
    "    duration = sound.duration_seconds * 1000 # Audio long (ms)\n",
    "    begin = 0.\n",
    "    end = int(duration/2)\n",
    "    \n",
    "    "
   ]
  },
  {
   "cell_type": "code",
   "execution_count": 7,
   "id": "b2de6596",
   "metadata": {},
   "outputs": [
    {
     "data": {
      "text/plain": [
       "170.9685260770975"
      ]
     },
     "execution_count": 7,
     "metadata": {},
     "output_type": "execute_result"
    }
   ],
   "source": [
    "filePath = './akustik_data/insan/f1_script1_ipad_office1.wav'\n",
    "\n",
    "sound= AudioSegment.from_wav(filePath)\n",
    "duration = sound.duration_seconds\n",
    "duration"
   ]
  },
  {
   "cell_type": "code",
   "execution_count": 13,
   "id": "8e9fbec0",
   "metadata": {},
   "outputs": [
    {
     "data": {
      "text/plain": [
       "11.0"
      ]
     },
     "execution_count": 13,
     "metadata": {},
     "output_type": "execute_result"
    }
   ],
   "source": [
    "duration = sound.duration_seconds\n",
    "duration//15"
   ]
  },
  {
   "cell_type": "code",
   "execution_count": 9,
   "id": "0065e3a9",
   "metadata": {},
   "outputs": [],
   "source": [
    "first_second = sound[:1000]"
   ]
  },
  {
   "cell_type": "code",
   "execution_count": 11,
   "id": "107ff957",
   "metadata": {},
   "outputs": [
    {
     "ename": "AttributeError",
     "evalue": "'AudioSegment' object has no attribute 'shape'",
     "output_type": "error",
     "traceback": [
      "\u001b[0;31m---------------------------------------------------------------------------\u001b[0m",
      "\u001b[0;31mAttributeError\u001b[0m                            Traceback (most recent call last)",
      "\u001b[0;32m/tmp/ipykernel_27375/924466395.py\u001b[0m in \u001b[0;36m<module>\u001b[0;34m\u001b[0m\n\u001b[0;32m----> 1\u001b[0;31m \u001b[0msound\u001b[0m\u001b[0;34m.\u001b[0m\u001b[0mshape\u001b[0m\u001b[0;34m\u001b[0m\u001b[0;34m\u001b[0m\u001b[0m\n\u001b[0m",
      "\u001b[0;31mAttributeError\u001b[0m: 'AudioSegment' object has no attribute 'shape'"
     ]
    }
   ],
   "source": [
    "\n",
    "for filename in os.listdir('./akustik_data/insan/'):\n",
    "    save_file_name = filename[:-4]\n",
    "    myaudio = AudioSegment.from_file(inputdir+\"/\"+filename, \"wav\") \n",
    "\n",
    "    for i in range(len(start_array)):\n",
    "        chunk_data = myaudio[start_array[i]:start_array[i]+duration_array[i]]\n",
    "        \n",
    "        "
   ]
  }
 ],
 "metadata": {
  "kernelspec": {
   "display_name": "Python 3 (ipykernel)",
   "language": "python",
   "name": "python3"
  },
  "language_info": {
   "codemirror_mode": {
    "name": "ipython",
    "version": 3
   },
   "file_extension": ".py",
   "mimetype": "text/x-python",
   "name": "python",
   "nbconvert_exporter": "python",
   "pygments_lexer": "ipython3",
   "version": "3.9.0"
  }
 },
 "nbformat": 4,
 "nbformat_minor": 5
}
